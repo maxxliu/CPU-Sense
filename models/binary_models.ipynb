{
 "cells": [
  {
   "cell_type": "code",
   "execution_count": 1,
   "metadata": {},
   "outputs": [],
   "source": [
    "# import modules here\n",
    "from prep_data import *\n",
    "from visualizations import *\n",
    "from sklearn.dummy import DummyClassifier\n",
    "from sklearn.metrics import confusion_matrix, accuracy_score, classification_report\n",
    "from sklearn.svm import SVC, LinearSVC\n",
    "from sklearn.externals import joblib\n",
    "from sklearn.model_selection import GridSearchCV\n",
    "from sklearn.linear_model import LogisticRegression\n",
    "from sklearn.ensemble import RandomForestClassifier"
   ]
  },
  {
   "cell_type": "code",
   "execution_count": 2,
   "metadata": {},
   "outputs": [],
   "source": [
    "# data files\n",
    "EXPERIMENT_1 = 'data/experiment1_data.csv'\n",
    "EXPERIMENT_2 = 'data/experiment2_data.csv'"
   ]
  },
  {
   "cell_type": "markdown",
   "metadata": {},
   "source": [
    "# Binary Models"
   ]
  },
  {
   "cell_type": "markdown",
   "metadata": {},
   "source": [
    "## Experiment 1"
   ]
  },
  {
   "cell_type": "code",
   "execution_count": 3,
   "metadata": {},
   "outputs": [],
   "source": [
    "# prepare the data\n",
    "mode = 4 \n",
    "x_train, x_test, y_train, y_test = binary_prep(EXPERIMENT_1, mode, seed=None)\n",
    "class_names = ['1', '0'] # 1 means an app was opened, 0 means nothing happened"
   ]
  },
  {
   "cell_type": "markdown",
   "metadata": {},
   "source": [
    "### Dummy Classifier\n",
    "\n",
    "Let's see how accurate we are when we use a classifier that learns nothing..."
   ]
  },
  {
   "cell_type": "code",
   "execution_count": 4,
   "metadata": {},
   "outputs": [
    {
     "name": "stdout",
     "output_type": "stream",
     "text": [
      "             precision    recall  f1-score   support\n",
      "\n",
      "          0       0.38      0.32      0.34        19\n",
      "          1       0.46      0.52      0.49        21\n",
      "\n",
      "avg / total       0.42      0.42      0.42        40\n",
      "\n"
     ]
    },
    {
     "data": {
      "image/png": "[encoded data removed]",
      "text/plain": [
       "<matplotlib.figure.Figure at 0x7efc0240cb70>"
      ]
     },
     "metadata": {},
     "output_type": "display_data"
    }
   ],
   "source": [
    "dummy = DummyClassifier()\n",
    "dummy.fit(x_train, y_train)\n",
    "# Make predictions\n",
    "y_pred = dummy.predict(x_test)\n",
    "report = classification_report(y_test, y_pred)\n",
    "print(report)\n",
    "# Compute confusion matrix\n",
    "cnf_matrix = confusion_matrix(y_test, y_pred)\n",
    "plt.rcParams.update({'font.size':10})\n",
    "plt.figure(figsize=(8, 8))\n",
    "plot_confusion_matrix(cnf_matrix, classes=class_names, title='Confusion Matrix')\n",
    "plt.show()"
   ]
  },
  {
   "cell_type": "markdown",
   "metadata": {},
   "source": [
    "It looks like the results are pretty bad..."
   ]
  },
  {
   "cell_type": "markdown",
   "metadata": {},
   "source": [
    "### Support Vector Machine"
   ]
  },
  {
   "cell_type": "code",
   "execution_count": 5,
   "metadata": {},
   "outputs": [
    {
     "data": {
      "text/plain": [
       "['saved_models/e1_binary_svm_m_4.pkl']"
      ]
     },
     "execution_count": 5,
     "metadata": {},
     "output_type": "execute_result"
    }
   ],
   "source": [
    "# still need to do cross validation and grid search\n",
    "svc = LinearSVC()\n",
    "svc.fit(x_train, y_train)\n",
    "joblib.dump(svc, 'saved_models/e1_binary_svm_m_' + str(mode) + '.pkl')"
   ]
  },
  {
   "cell_type": "code",
   "execution_count": 6,
   "metadata": {},
   "outputs": [
    {
     "name": "stdout",
     "output_type": "stream",
     "text": [
      "             precision    recall  f1-score   support\n",
      "\n",
      "          0       0.48      0.79      0.60        19\n",
      "          1       0.56      0.24      0.33        21\n",
      "\n",
      "avg / total       0.52      0.50      0.46        40\n",
      "\n"
     ]
    },
    {
     "data": {
      "image/png": "[encoded data removed]",
      "text/plain": [
       "<matplotlib.figure.Figure at 0x7efbc6c3a9e8>"
      ]
     },
     "metadata": {},
     "output_type": "display_data"
    }
   ],
   "source": [
    "# Make predictions\n",
    "y_pred = svc.predict(x_test)\n",
    "report = classification_report(y_test, y_pred)\n",
    "print(report)\n",
    "# Compute confusion matrix\n",
    "cnf_matrix = confusion_matrix(y_test, y_pred)\n",
    "plt.rcParams.update({'font.size':10})\n",
    "plt.figure(figsize=(8, 8))\n",
    "plot_confusion_matrix(cnf_matrix, classes=class_names, title='Confusion Matrix')\n",
    "plt.show()"
   ]
  },
  {
   "cell_type": "markdown",
   "metadata": {},
   "source": [
    "### Logistic Regression"
   ]
  },
  {
   "cell_type": "code",
   "execution_count": 7,
   "metadata": {},
   "outputs": [
    {
     "data": {
      "text/plain": [
       "['saved_models/e1_binary_lr_m_4.pkl']"
      ]
     },
     "execution_count": 7,
     "metadata": {},
     "output_type": "execute_result"
    }
   ],
   "source": [
    "# still need to do cross validation and grid search\n",
    "lr = LogisticRegression()\n",
    "lr.fit(x_train, y_train)\n",
    "joblib.dump(lr, 'saved_models/e1_binary_lr_m_' + str(mode) + '.pkl')"
   ]
  },
  {
   "cell_type": "code",
   "execution_count": 8,
   "metadata": {},
   "outputs": [
    {
     "name": "stdout",
     "output_type": "stream",
     "text": [
      "             precision    recall  f1-score   support\n",
      "\n",
      "          0       0.74      0.74      0.74        19\n",
      "          1       0.76      0.76      0.76        21\n",
      "\n",
      "avg / total       0.75      0.75      0.75        40\n",
      "\n"
     ]
    },
    {
     "data": {
      "image/png": "[encoded data removed]",
      "text/plain": [
       "<matplotlib.figure.Figure at 0x7efbbe519a90>"
      ]
     },
     "metadata": {},
     "output_type": "display_data"
    }
   ],
   "source": [
    "# Make predictions\n",
    "y_pred = lr.predict(x_test)\n",
    "report = classification_report(y_test, y_pred)\n",
    "print(report)\n",
    "# Compute confusion matrix\n",
    "cnf_matrix = confusion_matrix(y_test, y_pred)\n",
    "plt.rcParams.update({'font.size':10})\n",
    "plt.figure(figsize=(8, 8))\n",
    "plot_confusion_matrix(cnf_matrix, classes=class_names, title='Confusion Matrix')\n",
    "plt.show()"
   ]
  },
  {
   "cell_type": "markdown",
   "metadata": {},
   "source": [
    "### Random Forest"
   ]
  },
  {
   "cell_type": "code",
   "execution_count": 9,
   "metadata": {},
   "outputs": [
    {
     "name": "stdout",
     "output_type": "stream",
     "text": [
      "Best n estimators:    110.000000\n",
      "Best max features:    sqrt\n"
     ]
    },
    {
     "data": {
      "text/plain": [
       "['saved_models/e1_binary_rf_m_4.pkl']"
      ]
     },
     "execution_count": 9,
     "metadata": {},
     "output_type": "execute_result"
    }
   ],
   "source": [
    "kFold = 5\n",
    "param_grid = {'n_estimators': np.arange(10, 411, 100),\n",
    "                'max_features': np.array(['sqrt', 'log2'])}\n",
    "forest_grid = GridSearchCV(RandomForestClassifier(), param_grid, cv=kFold)\n",
    "\n",
    "forest_grid.fit(x_train, y_train)\n",
    "best_n = forest_grid.best_params_['n_estimators']\n",
    "best_f = forest_grid.best_params_['max_features']\n",
    "\n",
    "print(\"Best n estimators:    %f\" % best_n)\n",
    "print(\"Best max features:    %s\" % best_f)\n",
    "\n",
    "# rf = RandomForestClassifier()\n",
    "# rf.fit(x_train, y_train)\n",
    "joblib.dump(forest_grid, 'saved_models/e1_binary_rf_m_' + str(mode) + '.pkl')"
   ]
  },
  {
   "cell_type": "code",
   "execution_count": 10,
   "metadata": {},
   "outputs": [
    {
     "name": "stdout",
     "output_type": "stream",
     "text": [
      "             precision    recall  f1-score   support\n",
      "\n",
      "          0       0.94      0.89      0.92        19\n",
      "          1       0.91      0.95      0.93        21\n",
      "\n",
      "avg / total       0.93      0.93      0.92        40\n",
      "\n"
     ]
    },
    {
     "data": {
      "image/png": "[encoded data removed]",
      "text/plain": [
       "<matplotlib.figure.Figure at 0x7efbbe5b5240>"
      ]
     },
     "metadata": {},
     "output_type": "display_data"
    }
   ],
   "source": [
    "# Make predictions\n",
    "y_pred = forest_grid.predict(x_test)\n",
    "report = classification_report(y_test, y_pred)\n",
    "print(report)\n",
    "# Compute confusion matrix\n",
    "cnf_matrix = confusion_matrix(y_test, y_pred)\n",
    "plt.rcParams.update({'font.size':10})\n",
    "plt.figure(figsize=(8, 8))\n",
    "plot_confusion_matrix(cnf_matrix, classes=class_names, title='Confusion Matrix')\n",
    "plt.show()"
   ]
  },
  {
   "cell_type": "code",
   "execution_count": 11,
   "metadata": {},
   "outputs": [],
   "source": [
    "# I want to save these results to a txt file so I can view later\n",
    "of_name = 'model_results/e1_binary_rf_m_' + str(mode) + '.txt'\n",
    "of = open(of_name, 'w')\n",
    "\n",
    "of.write(\"Results of Grid Search:\\n\")\n",
    "of.write(\"\\tBest n estimators:      %f\\n\" % best_n)\n",
    "of.write(\"\\tBest max features:      %s\\n\" % best_f)\n",
    "of.write(\"\\t---\\n\")\n",
    "of.write(\"\\tBest Score:           %f\\n\\n\" % forest_grid.best_score_)\n",
    "of.write(\"Results on Test Data:\\n\")\n",
    "of.write(\"\\tScore:                %f\\n\" % forest_grid.score(x_test, y_test))\n",
    "\n",
    "of.close()"
   ]
  },
  {
   "cell_type": "markdown",
   "metadata": {},
   "source": [
    "## Experiment 2"
   ]
  },
  {
   "cell_type": "code",
   "execution_count": 12,
   "metadata": {},
   "outputs": [],
   "source": [
    "# prepare the data\n",
    "mode = 4 \n",
    "x_train, x_test, y_train, y_test = binary_prep(EXPERIMENT_2, mode, seed=None)\n",
    "class_names = ['1', '0'] # 1 means an app was opened, 0 means nothing happened"
   ]
  },
  {
   "cell_type": "markdown",
   "metadata": {},
   "source": [
    "### Dummy Classifier"
   ]
  },
  {
   "cell_type": "code",
   "execution_count": 13,
   "metadata": {},
   "outputs": [
    {
     "name": "stdout",
     "output_type": "stream",
     "text": [
      "             precision    recall  f1-score   support\n",
      "\n",
      "          0       0.56      0.51      0.53        78\n",
      "          1       0.53      0.57      0.55        74\n",
      "\n",
      "avg / total       0.54      0.54      0.54       152\n",
      "\n"
     ]
    },
    {
     "data": {
      "image/png": "[encoded data removed]",
      "text/plain": [
       "<matplotlib.figure.Figure at 0x7efbc6c3aeb8>"
      ]
     },
     "metadata": {},
     "output_type": "display_data"
    }
   ],
   "source": [
    "dummy = DummyClassifier()\n",
    "dummy.fit(x_train, y_train)\n",
    "# Make predictions\n",
    "y_pred = dummy.predict(x_test)\n",
    "report = classification_report(y_test, y_pred)\n",
    "print(report)\n",
    "# Compute confusion matrix\n",
    "cnf_matrix = confusion_matrix(y_test, y_pred)\n",
    "plt.rcParams.update({'font.size':10})\n",
    "plt.figure(figsize=(8, 8))\n",
    "plot_confusion_matrix(cnf_matrix, classes=class_names, title='Confusion Matrix')\n",
    "plt.show()"
   ]
  },
  {
   "cell_type": "markdown",
   "metadata": {},
   "source": [
    "### Support Vector Machine"
   ]
  },
  {
   "cell_type": "code",
   "execution_count": 14,
   "metadata": {},
   "outputs": [
    {
     "data": {
      "text/plain": [
       "['saved_models/e2_binary_svm_m_4.pkl']"
      ]
     },
     "execution_count": 14,
     "metadata": {},
     "output_type": "execute_result"
    }
   ],
   "source": [
    "# still need to do cross validation and grid search\n",
    "svc = LinearSVC()\n",
    "svc.fit(x_train, y_train)\n",
    "joblib.dump(svc, 'saved_models/e2_binary_svm_m_' + str(mode) + '.pkl')"
   ]
  },
  {
   "cell_type": "code",
   "execution_count": 15,
   "metadata": {},
   "outputs": [
    {
     "name": "stdout",
     "output_type": "stream",
     "text": [
      "             precision    recall  f1-score   support\n",
      "\n",
      "          0       0.65      0.94      0.76        78\n",
      "          1       0.87      0.46      0.60        74\n",
      "\n",
      "avg / total       0.76      0.70      0.69       152\n",
      "\n"
     ]
    },
    {
     "data": {
      "image/png": "[encoded data removed]",
      "text/plain": [
       "<matplotlib.figure.Figure at 0x7efbbe6c50b8>"
      ]
     },
     "metadata": {},
     "output_type": "display_data"
    }
   ],
   "source": [
    "# Make predictions\n",
    "y_pred = svc.predict(x_test)\n",
    "report = classification_report(y_test, y_pred)\n",
    "print(report)\n",
    "# Compute confusion matrix\n",
    "cnf_matrix = confusion_matrix(y_test, y_pred)\n",
    "plt.rcParams.update({'font.size':10})\n",
    "plt.figure(figsize=(8, 8))\n",
    "plot_confusion_matrix(cnf_matrix, classes=class_names, title='Confusion Matrix')\n",
    "plt.show()"
   ]
  },
  {
   "cell_type": "markdown",
   "metadata": {},
   "source": [
    "### Logistic Regression"
   ]
  },
  {
   "cell_type": "code",
   "execution_count": 16,
   "metadata": {},
   "outputs": [
    {
     "data": {
      "text/plain": [
       "['saved_models/e2_binary_lr_m_4.pkl']"
      ]
     },
     "execution_count": 16,
     "metadata": {},
     "output_type": "execute_result"
    }
   ],
   "source": [
    "# still need to do cross validation and grid search\n",
    "lr = LogisticRegression()\n",
    "lr.fit(x_train, y_train)\n",
    "joblib.dump(lr, 'saved_models/e2_binary_lr_m_' + str(mode) + '.pkl')"
   ]
  },
  {
   "cell_type": "code",
   "execution_count": 17,
   "metadata": {},
   "outputs": [
    {
     "name": "stdout",
     "output_type": "stream",
     "text": [
      "             precision    recall  f1-score   support\n",
      "\n",
      "          0       0.68      0.97      0.80        78\n",
      "          1       0.95      0.51      0.67        74\n",
      "\n",
      "avg / total       0.81      0.75      0.74       152\n",
      "\n"
     ]
    },
    {
     "data": {
      "image/png": "[encoded data removed]",
      "text/plain": [
       "<matplotlib.figure.Figure at 0x7efbbe546f60>"
      ]
     },
     "metadata": {},
     "output_type": "display_data"
    }
   ],
   "source": [
    "# Make predictions\n",
    "y_pred = lr.predict(x_test)\n",
    "report = classification_report(y_test, y_pred)\n",
    "print(report)\n",
    "# Compute confusion matrix\n",
    "cnf_matrix = confusion_matrix(y_test, y_pred)\n",
    "plt.rcParams.update({'font.size':10})\n",
    "plt.figure(figsize=(8, 8))\n",
    "plot_confusion_matrix(cnf_matrix, classes=class_names, title='Confusion Matrix')\n",
    "plt.show()"
   ]
  },
  {
   "cell_type": "markdown",
   "metadata": {},
   "source": [
    "### Random Forest"
   ]
  },
  {
   "cell_type": "code",
   "execution_count": 18,
   "metadata": {},
   "outputs": [
    {
     "name": "stdout",
     "output_type": "stream",
     "text": [
      "Best n estimators:    210.000000\n",
      "Best max features:    log2\n"
     ]
    },
    {
     "data": {
      "text/plain": [
       "['saved_models/e2_binary_rf_m_4.pkl']"
      ]
     },
     "execution_count": 18,
     "metadata": {},
     "output_type": "execute_result"
    }
   ],
   "source": [
    "kFold = 5\n",
    "param_grid = {'n_estimators': np.arange(10, 411, 100),\n",
    "                'max_features': np.array(['sqrt', 'log2'])}\n",
    "forest_grid = GridSearchCV(RandomForestClassifier(), param_grid, cv=kFold)\n",
    "\n",
    "forest_grid.fit(x_train, y_train)\n",
    "best_n = forest_grid.best_params_['n_estimators']\n",
    "best_f = forest_grid.best_params_['max_features']\n",
    "\n",
    "print(\"Best n estimators:    %f\" % best_n)\n",
    "print(\"Best max features:    %s\" % best_f)\n",
    "\n",
    "# rf = RandomForestClassifier()\n",
    "# rf.fit(x_train, y_train)\n",
    "joblib.dump(forest_grid, 'saved_models/e2_binary_rf_m_' + str(mode) + '.pkl')"
   ]
  },
  {
   "cell_type": "code",
   "execution_count": 19,
   "metadata": {},
   "outputs": [
    {
     "name": "stdout",
     "output_type": "stream",
     "text": [
      "             precision    recall  f1-score   support\n",
      "\n",
      "          0       0.70      0.83      0.76        78\n",
      "          1       0.78      0.62      0.69        74\n",
      "\n",
      "avg / total       0.74      0.73      0.73       152\n",
      "\n"
     ]
    },
    {
     "data": {
      "image/png": "[encoded data removed]",
      "text/plain": [
       "<matplotlib.figure.Figure at 0x7efbbe6f7208>"
      ]
     },
     "metadata": {},
     "output_type": "display_data"
    }
   ],
   "source": [
    "# Make predictions\n",
    "y_pred = forest_grid.predict(x_test)\n",
    "report = classification_report(y_test, y_pred)\n",
    "print(report)\n",
    "# Compute confusion matrix\n",
    "cnf_matrix = confusion_matrix(y_test, y_pred)\n",
    "plt.rcParams.update({'font.size':10})\n",
    "plt.figure(figsize=(8, 8))\n",
    "plot_confusion_matrix(cnf_matrix, classes=class_names, title='Confusion Matrix')\n",
    "plt.show()"
   ]
  },
  {
   "cell_type": "code",
   "execution_count": 20,
   "metadata": {},
   "outputs": [],
   "source": [
    "# I want to save these results to a txt file so I can view later\n",
    "of_name = 'model_results/e2_binary_rf_m_' + str(mode) + '.txt'\n",
    "of = open(of_name, 'w')\n",
    "\n",
    "of.write(\"Results of Grid Search:\\n\")\n",
    "of.write(\"\\tBest n estimators:      %f\\n\" % best_n)\n",
    "of.write(\"\\tBest max features:      %s\\n\" % best_f)\n",
    "of.write(\"\\t---\\n\")\n",
    "of.write(\"\\tBest Score:           %f\\n\\n\" % forest_grid.best_score_)\n",
    "of.write(\"Results on Test Data:\\n\")\n",
    "of.write(\"\\tScore:                %f\\n\" % forest_grid.score(x_test, y_test))\n",
    "\n",
    "of.close()"
   ]
  },
  {
   "cell_type": "code",
   "execution_count": null,
   "metadata": {},
   "outputs": [],
   "source": []
  }
 ],
 "metadata": {
  "kernelspec": {
   "display_name": "Python 3",
   "language": "python",
   "name": "python3"
  },
  "language_info": {
   "codemirror_mode": {
    "name": "ipython",
    "version": 3
   },
   "file_extension": ".py",
   "mimetype": "text/x-python",
   "name": "python",
   "nbconvert_exporter": "python",
   "pygments_lexer": "ipython3",
   "version": "3.6.4"
  }
 },
 "nbformat": 4,
 "nbformat_minor": 2
}
