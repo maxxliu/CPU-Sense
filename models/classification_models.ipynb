{
 "cells": [
  {
   "cell_type": "code",
   "execution_count": 1,
   "metadata": {},
   "outputs": [],
   "source": [
    "# import modules here\n",
    "from prep_data import *\n",
    "from visualizations import *\n",
    "from sklearn.dummy import DummyClassifier\n",
    "from sklearn.metrics import confusion_matrix, accuracy_score, classification_report\n",
    "from sklearn.externals import joblib\n",
    "from sklearn.model_selection import GridSearchCV\n",
    "from sklearn.ensemble import AdaBoostClassifier, RandomForestClassifier, GradientBoostingClassifier"
   ]
  },
  {
   "cell_type": "code",
   "execution_count": 2,
   "metadata": {},
   "outputs": [],
   "source": [
    "# data files\n",
    "EXPERIMENT_1 = 'data/experiment1_data.csv'\n",
    "EXPERIMENT_2 = 'data/experiment2_data.csv'"
   ]
  },
  {
   "cell_type": "markdown",
   "metadata": {},
   "source": [
    "# Classification Models"
   ]
  },
  {
   "cell_type": "markdown",
   "metadata": {},
   "source": [
    "## Experiment 1"
   ]
  },
  {
   "cell_type": "code",
   "execution_count": 3,
   "metadata": {},
   "outputs": [],
   "source": [
    "# prepare the data\n",
    "mode = 4\n",
    "x_train, x_test, y_train, y_test = app_prep(EXPERIMENT_1, mode, seed=None)\n",
    "app_names = ['0', '1', '2', '3', '4', '5']"
   ]
  },
  {
   "cell_type": "markdown",
   "metadata": {},
   "source": [
    "### Dummy Classifier\n",
    "\n",
    "Once again, we see how well this performs..."
   ]
  },
  {
   "cell_type": "code",
   "execution_count": 5,
   "metadata": {},
   "outputs": [
    {
     "name": "stdout",
     "output_type": "stream",
     "text": [
      "             precision    recall  f1-score   support\n",
      "\n",
      "          0       0.61      0.48      0.54        23\n",
      "          1       0.00      0.00      0.00         1\n",
      "          2       0.33      0.17      0.22         6\n",
      "          3       0.33      0.25      0.29         4\n",
      "          4       0.00      0.00      0.00         2\n",
      "          5       0.00      0.00      0.00         4\n",
      "\n",
      "avg / total       0.43      0.33      0.37        40\n",
      "\n"
     ]
    },
    {
     "data": {
      "image/png": "[encoded data removed]",
      "text/plain": [
       "<matplotlib.figure.Figure at 0x7fed692f7cf8>"
      ]
     },
     "metadata": {},
     "output_type": "display_data"
    }
   ],
   "source": [
    "dummy = DummyClassifier()\n",
    "dummy.fit(x_train, y_train)\n",
    "# Make predictions\n",
    "y_pred = dummy.predict(x_test)\n",
    "report = classification_report(y_test, y_pred)\n",
    "print(report)\n",
    "# Compute confusion matrix\n",
    "cnf_matrix = confusion_matrix(y_test, y_pred)\n",
    "plt.rcParams.update({'font.size':10})\n",
    "plt.figure(figsize=(8, 8))\n",
    "plot_confusion_matrix(cnf_matrix, classes=app_names, title='Confusion Matrix')\n",
    "plt.show()"
   ]
  },
  {
   "cell_type": "markdown",
   "metadata": {},
   "source": [
    "### Random Forest"
   ]
  },
  {
   "cell_type": "code",
   "execution_count": 6,
   "metadata": {},
   "outputs": [
    {
     "name": "stdout",
     "output_type": "stream",
     "text": [
      "Best n estimators:    110.000000\n",
      "Best max features:    log2\n"
     ]
    },
    {
     "data": {
      "text/plain": [
       "['saved_models/e1_app_rf_m_4.pkl']"
      ]
     },
     "execution_count": 6,
     "metadata": {},
     "output_type": "execute_result"
    }
   ],
   "source": [
    "kFold = 5\n",
    "param_grid = {'n_estimators': np.arange(10, 411, 100),\n",
    "                'max_features': np.array(['sqrt', 'log2'])}\n",
    "forest_grid = GridSearchCV(RandomForestClassifier(), param_grid, cv=kFold)\n",
    "\n",
    "forest_grid.fit(x_train, y_train)\n",
    "best_n = forest_grid.best_params_['n_estimators']\n",
    "best_f = forest_grid.best_params_['max_features']\n",
    "\n",
    "print(\"Best n estimators:    %f\" % best_n)\n",
    "print(\"Best max features:    %s\" % best_f)\n",
    "\n",
    "# rf = RandomForestClassifier()\n",
    "# rf.fit(x_train, y_train)\n",
    "joblib.dump(forest_grid, 'saved_models/e1_app_rf_m_' + str(mode) + '.pkl')"
   ]
  },
  {
   "cell_type": "code",
   "execution_count": 7,
   "metadata": {},
   "outputs": [
    {
     "name": "stdout",
     "output_type": "stream",
     "text": [
      "             precision    recall  f1-score   support\n",
      "\n",
      "          0       1.00      0.96      0.98        23\n",
      "          1       0.50      1.00      0.67         1\n",
      "          2       1.00      0.83      0.91         6\n",
      "          3       1.00      1.00      1.00         4\n",
      "          4       0.67      1.00      0.80         2\n",
      "          5       1.00      1.00      1.00         4\n",
      "\n",
      "avg / total       0.97      0.95      0.96        40\n",
      "\n"
     ]
    },
    {
     "data": {
      "image/png": "[encoded data removed]",
      "text/plain": [
       "<matplotlib.figure.Figure at 0x7fed345707f0>"
      ]
     },
     "metadata": {},
     "output_type": "display_data"
    }
   ],
   "source": [
    "# Make predictions\n",
    "y_pred = forest_grid.predict(x_test)\n",
    "report = classification_report(y_test, y_pred)\n",
    "print(report)\n",
    "# Compute confusion matrix\n",
    "cnf_matrix = confusion_matrix(y_test, y_pred)\n",
    "plt.rcParams.update({'font.size':10})\n",
    "plt.figure(figsize=(8, 8))\n",
    "plot_confusion_matrix(cnf_matrix, classes=app_names, title='Confusion Matrix')\n",
    "plt.show()"
   ]
  },
  {
   "cell_type": "code",
   "execution_count": 8,
   "metadata": {},
   "outputs": [],
   "source": [
    "# I want to save these results to a txt file so I can view later\n",
    "of_name = 'model_results/e1_app_rf_m_' + str(mode) + '.txt'\n",
    "of = open(of_name, 'w')\n",
    "\n",
    "of.write(\"Results of Grid Search:\\n\")\n",
    "of.write(\"\\tBest n estimators:      %f\\n\" % best_n)\n",
    "of.write(\"\\tBest max features:      %s\\n\" % best_f)\n",
    "of.write(\"\\t---\\n\")\n",
    "of.write(\"\\tBest Score:           %f\\n\\n\" % forest_grid.best_score_)\n",
    "of.write(\"Results on Test Data:\\n\")\n",
    "of.write(\"\\tScore:                %f\\n\" % forest_grid.score(x_test, y_test))\n",
    "\n",
    "of.close()"
   ]
  },
  {
   "cell_type": "markdown",
   "metadata": {},
   "source": [
    "### Adaboost"
   ]
  },
  {
   "cell_type": "code",
   "execution_count": 9,
   "metadata": {},
   "outputs": [
    {
     "name": "stdout",
     "output_type": "stream",
     "text": [
      "Best n estimators:    450.000000\n",
      "Best learning rate:   0.500000\n"
     ]
    },
    {
     "data": {
      "text/plain": [
       "['saved_models/e1_app_ab_m_4.pkl']"
      ]
     },
     "execution_count": 9,
     "metadata": {},
     "output_type": "execute_result"
    }
   ],
   "source": [
    "kFold = 5\n",
    "param_grid = {'n_estimators': np.arange(50, 750, 100),\n",
    "                'learning_rate': np.arange(0.25, 1.25, 0.25)}\n",
    "adaboost_grid = GridSearchCV(AdaBoostClassifier(), param_grid, cv=kFold)\n",
    "\n",
    "# test using training data\n",
    "adaboost_grid.fit(x_train, y_train)\n",
    "best_n = adaboost_grid.best_params_['n_estimators']\n",
    "best_l = adaboost_grid.best_params_['learning_rate']\n",
    "\n",
    "print(\"Best n estimators:    %f\" % best_n)\n",
    "print(\"Best learning rate:   %f\" % best_l)\n",
    "\n",
    "# abc = AdaBoostClassifier()\n",
    "# abc.fit(x_train, y_train)\n",
    "joblib.dump(adaboost_grid, 'saved_models/e1_app_ab_m_' + str(mode) + '.pkl')"
   ]
  },
  {
   "cell_type": "code",
   "execution_count": 10,
   "metadata": {},
   "outputs": [
    {
     "name": "stdout",
     "output_type": "stream",
     "text": [
      "             precision    recall  f1-score   support\n",
      "\n",
      "          0       0.92      0.96      0.94        23\n",
      "          1       0.50      1.00      0.67         1\n",
      "          2       0.71      0.83      0.77         6\n",
      "          3       1.00      0.50      0.67         4\n",
      "          4       0.00      0.00      0.00         2\n",
      "          5       0.80      1.00      0.89         4\n",
      "\n",
      "avg / total       0.83      0.85      0.83        40\n",
      "\n"
     ]
    },
    {
     "name": "stderr",
     "output_type": "stream",
     "text": [
      "/home/maxliu/anaconda3/lib/python3.6/site-packages/sklearn/metrics/classification.py:1135: UndefinedMetricWarning: Precision and F-score are ill-defined and being set to 0.0 in labels with no predicted samples.\n",
      "  'precision', 'predicted', average, warn_for)\n"
     ]
    },
    {
     "data": {
      "image/png": "[encoded data removed]",
      "text/plain": [
       "<matplotlib.figure.Figure at 0x7fed342df438>"
      ]
     },
     "metadata": {},
     "output_type": "display_data"
    }
   ],
   "source": [
    "# Make predictions\n",
    "y_pred = adaboost_grid.predict(x_test)\n",
    "report = classification_report(y_test, y_pred)\n",
    "print(report)\n",
    "# Compute confusion matrix\n",
    "cnf_matrix = confusion_matrix(y_test, y_pred)\n",
    "plt.rcParams.update({'font.size':10})\n",
    "plt.figure(figsize=(8, 8))\n",
    "plot_confusion_matrix(cnf_matrix, classes=app_names, title='Confusion Matrix')\n",
    "plt.show()"
   ]
  },
  {
   "cell_type": "code",
   "execution_count": 11,
   "metadata": {},
   "outputs": [],
   "source": [
    "# I want to save these results to a txt file so I can view later\n",
    "of_name = 'model_results/e1_app_ab_m_' + str(mode) + '.txt'\n",
    "of = open(of_name, 'w')\n",
    "\n",
    "of.write(\"Results of Grid Search:\\n\")\n",
    "of.write(\"\\tBest n estimators:      %f\\n\" % best_n)\n",
    "of.write(\"\\tBest learning rate:     %f\\n\" % best_l)\n",
    "of.write(\"\\t---\\n\")\n",
    "of.write(\"\\tBest Score:           %f\\n\\n\" % adaboost_grid.best_score_)\n",
    "of.write(\"Results on Test Data:\\n\")\n",
    "of.write(\"\\tScore:                %f\\n\" % adaboost_grid.score(x_test, y_test))\n",
    "\n",
    "of.close()"
   ]
  },
  {
   "cell_type": "markdown",
   "metadata": {},
   "source": [
    "### Gradient Boost"
   ]
  },
  {
   "cell_type": "code",
   "execution_count": 12,
   "metadata": {},
   "outputs": [
    {
     "name": "stdout",
     "output_type": "stream",
     "text": [
      "Best n estimators:    500.000000\n",
      "Best learning rate:   0.250000\n",
      "Best max features:    log2\n"
     ]
    },
    {
     "data": {
      "text/plain": [
       "['saved_models/e1_app_gb_m_4.pkl']"
      ]
     },
     "execution_count": 12,
     "metadata": {},
     "output_type": "execute_result"
    }
   ],
   "source": [
    "kFold = 5\n",
    "param_grid = {'n_estimators': np.arange(100, 600, 100),\n",
    "                'learning_rate': np.arange(0.25, 1.25, 0.25),\n",
    "                 'max_features': np.array(['sqrt', 'log2'])}\n",
    "gradient_grid = GridSearchCV(GradientBoostingClassifier(), param_grid, cv=kFold)\n",
    "\n",
    "# test using training data\n",
    "gradient_grid.fit(x_train, y_train)\n",
    "best_n = gradient_grid.best_params_['n_estimators']\n",
    "best_l = gradient_grid.best_params_['learning_rate']\n",
    "best_f = forest_grid.best_params_['max_features']\n",
    "\n",
    "print(\"Best n estimators:    %f\" % best_n)\n",
    "print(\"Best learning rate:   %f\" % best_l)\n",
    "print(\"Best max features:    %s\" % best_f)\n",
    "\n",
    "# gbc = GradientBoostingClassifier()\n",
    "# gbc.fit(x_train, y_train)\n",
    "joblib.dump(gradient_grid, 'saved_models/e1_app_gb_m_' + str(mode) + '.pkl')"
   ]
  },
  {
   "cell_type": "code",
   "execution_count": 13,
   "metadata": {},
   "outputs": [
    {
     "name": "stdout",
     "output_type": "stream",
     "text": [
      "             precision    recall  f1-score   support\n",
      "\n",
      "          0       1.00      0.91      0.95        23\n",
      "          1       0.50      1.00      0.67         1\n",
      "          2       1.00      0.83      0.91         6\n",
      "          3       1.00      1.00      1.00         4\n",
      "          4       0.50      1.00      0.67         2\n",
      "          5       1.00      1.00      1.00         4\n",
      "\n",
      "avg / total       0.96      0.93      0.94        40\n",
      "\n"
     ]
    },
    {
     "data": {
      "image/png": "[encoded data removed]",
      "text/plain": [
       "<matplotlib.figure.Figure at 0x7fed342e9908>"
      ]
     },
     "metadata": {},
     "output_type": "display_data"
    }
   ],
   "source": [
    "# Make predictions\n",
    "y_pred = gradient_grid.predict(x_test)\n",
    "report = classification_report(y_test, y_pred)\n",
    "print(report)\n",
    "# Compute confusion matrix\n",
    "cnf_matrix = confusion_matrix(y_test, y_pred)\n",
    "plt.rcParams.update({'font.size':10})\n",
    "plt.figure(figsize=(8, 8))\n",
    "plot_confusion_matrix(cnf_matrix, classes=app_names, title='Confusion Matrix')\n",
    "plt.show()"
   ]
  },
  {
   "cell_type": "code",
   "execution_count": 14,
   "metadata": {},
   "outputs": [],
   "source": [
    "# I want to save these results to a txt file so I can view later\n",
    "of_name = 'model_results/e1_app_gb_m_' + str(mode) + '.txt'\n",
    "of = open(of_name, 'w')\n",
    "\n",
    "of.write(\"Results of Grid Search:\\n\")\n",
    "of.write(\"\\tBest n estimators:      %f\\n\" % best_n)\n",
    "of.write(\"\\tBest learning rate:     %f\\n\" % best_l)\n",
    "of.write(\"\\tBest max features:      %s\\n\" % best_f)\n",
    "of.write(\"\\t---\\n\")\n",
    "of.write(\"\\tBest Score:           %f\\n\\n\" % gradient_grid.best_score_)\n",
    "of.write(\"Results on Test Data:\\n\")\n",
    "of.write(\"\\tScore:                %f\\n\" % gradient_grid.score(x_test, y_test))\n",
    "\n",
    "of.close()"
   ]
  },
  {
   "cell_type": "markdown",
   "metadata": {},
   "source": [
    "## Experiment 2"
   ]
  },
  {
   "cell_type": "code",
   "execution_count": 3,
   "metadata": {},
   "outputs": [],
   "source": [
    "# prepare the data\n",
    "mode = 4 \n",
    "x_train, x_test, y_train, y_test = app_prep(EXPERIMENT_2, mode, seed=None)\n",
    "app_names = ['0', '1', '2', '3', '4', '5']"
   ]
  },
  {
   "cell_type": "markdown",
   "metadata": {},
   "source": [
    "### Dummy Classifier"
   ]
  },
  {
   "cell_type": "code",
   "execution_count": 16,
   "metadata": {},
   "outputs": [
    {
     "name": "stdout",
     "output_type": "stream",
     "text": [
      "             precision    recall  f1-score   support\n",
      "\n",
      "          0       0.50      0.54      0.52        72\n",
      "          1       0.00      0.00      0.00         4\n",
      "          2       0.18      0.20      0.19        20\n",
      "          3       0.06      0.08      0.07        13\n",
      "          4       0.10      0.07      0.08        15\n",
      "          5       0.11      0.07      0.09        28\n",
      "\n",
      "avg / total       0.30      0.31      0.30       152\n",
      "\n"
     ]
    },
    {
     "data": {
      "image/png": "[encoded data removed]",
      "text/plain": [
       "<matplotlib.figure.Figure at 0x7fed34488940>"
      ]
     },
     "metadata": {},
     "output_type": "display_data"
    }
   ],
   "source": [
    "dummy = DummyClassifier()\n",
    "dummy.fit(x_train, y_train)\n",
    "# Make predictions\n",
    "y_pred = dummy.predict(x_test)\n",
    "report = classification_report(y_test, y_pred)\n",
    "print(report)\n",
    "# Compute confusion matrix\n",
    "cnf_matrix = confusion_matrix(y_test, y_pred)\n",
    "plt.rcParams.update({'font.size':10})\n",
    "plt.figure(figsize=(8, 8))\n",
    "plot_confusion_matrix(cnf_matrix, classes=app_names, title='Confusion Matrix')\n",
    "plt.show()"
   ]
  },
  {
   "cell_type": "markdown",
   "metadata": {},
   "source": [
    "### Random Forest"
   ]
  },
  {
   "cell_type": "code",
   "execution_count": 17,
   "metadata": {},
   "outputs": [
    {
     "name": "stdout",
     "output_type": "stream",
     "text": [
      "Best n estimators:    310.000000\n",
      "Best max features:    sqrt\n"
     ]
    },
    {
     "data": {
      "text/plain": [
       "['saved_models/e2_app_rf_m_4.pkl']"
      ]
     },
     "execution_count": 17,
     "metadata": {},
     "output_type": "execute_result"
    }
   ],
   "source": [
    "kFold = 5\n",
    "param_grid = {'n_estimators': np.arange(10, 411, 100),\n",
    "                'max_features': np.array(['sqrt', 'log2'])}\n",
    "forest_grid = GridSearchCV(RandomForestClassifier(), param_grid, cv=kFold)\n",
    "\n",
    "forest_grid.fit(x_train, y_train)\n",
    "best_n = forest_grid.best_params_['n_estimators']\n",
    "best_f = forest_grid.best_params_['max_features']\n",
    "\n",
    "print(\"Best n estimators:    %f\" % best_n)\n",
    "print(\"Best max features:    %s\" % best_f)\n",
    "\n",
    "rf = RandomForestClassifier()\n",
    "rf.fit(x_train, y_train)\n",
    "joblib.dump(forest_grid, 'saved_models/e2_app_rf_m_' + str(mode) + '.pkl')"
   ]
  },
  {
   "cell_type": "code",
   "execution_count": 18,
   "metadata": {},
   "outputs": [
    {
     "name": "stdout",
     "output_type": "stream",
     "text": [
      "             precision    recall  f1-score   support\n",
      "\n",
      "          0       0.66      0.83      0.74        72\n",
      "          1       1.00      1.00      1.00         4\n",
      "          2       0.87      1.00      0.93        20\n",
      "          3       1.00      1.00      1.00        13\n",
      "          4       0.50      0.07      0.12        15\n",
      "          5       0.47      0.32      0.38        28\n",
      "\n",
      "avg / total       0.68      0.70      0.67       152\n",
      "\n"
     ]
    },
    {
     "data": {
      "image/png": "[encoded data removed]",
      "text/plain": [
       "<matplotlib.figure.Figure at 0x7fed341aa978>"
      ]
     },
     "metadata": {},
     "output_type": "display_data"
    }
   ],
   "source": [
    "# Make predictions\n",
    "y_pred = rf.predict(x_test)\n",
    "report = classification_report(y_test, y_pred)\n",
    "print(report)\n",
    "# Compute confusion matrix\n",
    "cnf_matrix = confusion_matrix(y_test, y_pred)\n",
    "plt.rcParams.update({'font.size':10})\n",
    "plt.figure(figsize=(8, 8))\n",
    "plot_confusion_matrix(cnf_matrix, classes=app_names, title='Confusion Matrix')\n",
    "plt.show()"
   ]
  },
  {
   "cell_type": "code",
   "execution_count": 19,
   "metadata": {},
   "outputs": [],
   "source": [
    "# I want to save these results to a txt file so I can view later\n",
    "of_name = 'model_results/e2_app_rf_m_' + str(mode) + '.txt'\n",
    "of = open(of_name, 'w')\n",
    "\n",
    "of.write(\"Results of Grid Search:\\n\")\n",
    "of.write(\"\\tBest n estimators:      %f\\n\" % best_n)\n",
    "of.write(\"\\tBest max features:      %s\\n\" % best_f)\n",
    "of.write(\"\\t---\\n\")\n",
    "of.write(\"\\tBest Score:           %f\\n\\n\" % forest_grid.best_score_)\n",
    "of.write(\"Results on Test Data:\\n\")\n",
    "of.write(\"\\tScore:                %f\\n\" % forest_grid.score(x_test, y_test))\n",
    "\n",
    "of.close()"
   ]
  },
  {
   "cell_type": "code",
   "execution_count": 4,
   "metadata": {},
   "outputs": [
    {
     "data": {
      "image/png": "[encoded data removed]",
      "text/plain": [
       "<matplotlib.figure.Figure at 0x7f6840b56048>"
      ]
     },
     "metadata": {},
     "output_type": "display_data"
    }
   ],
   "source": [
    "rf = RandomForestClassifier(n_estimators=310, max_features='sqrt')\n",
    "rf.fit(x_train, y_train)\n",
    "\n",
    "var_names = list(x_train)\n",
    "var_scores = rf.feature_importances_\n",
    "\n",
    "var_selection = dict(zip(var_names, var_scores))\n",
    "var_selection = OrderedDict(sorted(var_selection.items(), key=lambda t: t[1]))\n",
    "\n",
    "plt.rcParams.update({'font.size':15})\n",
    "plt.figure(figsize=(5, 15))\n",
    "plt.barh(range(len(var_selection)), list(var_selection.values()), align='center')\n",
    "plt.yticks(range(len(var_selection)), list(var_selection.keys()))\n",
    "plt.show()"
   ]
  },
  {
   "cell_type": "code",
   "execution_count": null,
   "metadata": {},
   "outputs": [],
   "source": []
  },
  {
   "cell_type": "code",
   "execution_count": null,
   "metadata": {},
   "outputs": [],
   "source": []
  },
  {
   "cell_type": "markdown",
   "metadata": {},
   "source": [
    "### Adaboost"
   ]
  },
  {
   "cell_type": "code",
   "execution_count": 20,
   "metadata": {},
   "outputs": [
    {
     "name": "stdout",
     "output_type": "stream",
     "text": [
      "Best n estimators:    250.000000\n",
      "Best learning rate:   0.250000\n"
     ]
    },
    {
     "data": {
      "text/plain": [
       "['saved_models/e2_app_ab_m_4.pkl']"
      ]
     },
     "execution_count": 20,
     "metadata": {},
     "output_type": "execute_result"
    }
   ],
   "source": [
    "kFold = 5\n",
    "param_grid = {'n_estimators': np.arange(50, 750, 100),\n",
    "                'learning_rate': np.arange(0.25, 1.25, 0.25)}\n",
    "adaboost_grid = GridSearchCV(AdaBoostClassifier(), param_grid, cv=kFold)\n",
    "\n",
    "# test using training data\n",
    "adaboost_grid.fit(x_train, y_train)\n",
    "best_n = adaboost_grid.best_params_['n_estimators']\n",
    "best_l = adaboost_grid.best_params_['learning_rate']\n",
    "\n",
    "print(\"Best n estimators:    %f\" % best_n)\n",
    "print(\"Best learning rate:   %f\" % best_l)\n",
    "\n",
    "# abc = AdaBoostClassifier()\n",
    "# abc.fit(x_train, y_train)\n",
    "joblib.dump(adaboost_grid, 'saved_models/e2_app_ab_m_' + str(mode) +'.pkl')"
   ]
  },
  {
   "cell_type": "code",
   "execution_count": 21,
   "metadata": {},
   "outputs": [
    {
     "name": "stdout",
     "output_type": "stream",
     "text": [
      "             precision    recall  f1-score   support\n",
      "\n",
      "          0       0.60      0.86      0.71        72\n",
      "          1       1.00      0.50      0.67         4\n",
      "          2       0.79      0.95      0.86        20\n",
      "          3       1.00      0.92      0.96        13\n",
      "          4       0.00      0.00      0.00        15\n",
      "          5       0.27      0.11      0.15        28\n",
      "\n",
      "avg / total       0.55      0.64      0.58       152\n",
      "\n"
     ]
    },
    {
     "name": "stderr",
     "output_type": "stream",
     "text": [
      "/home/maxliu/anaconda3/lib/python3.6/site-packages/sklearn/metrics/classification.py:1135: UndefinedMetricWarning: Precision and F-score are ill-defined and being set to 0.0 in labels with no predicted samples.\n",
      "  'precision', 'predicted', average, warn_for)\n"
     ]
    },
    {
     "data": {
      "image/png": "[encoded data removed]",
      "text/plain": [
       "<matplotlib.figure.Figure at 0x7fed338cd278>"
      ]
     },
     "metadata": {},
     "output_type": "display_data"
    }
   ],
   "source": [
    "# Make predictions\n",
    "y_pred = adaboost_grid.predict(x_test)\n",
    "report = classification_report(y_test, y_pred)\n",
    "print(report)\n",
    "# Compute confusion matrix\n",
    "cnf_matrix = confusion_matrix(y_test, y_pred)\n",
    "plt.rcParams.update({'font.size':10})\n",
    "plt.figure(figsize=(8, 8))\n",
    "plot_confusion_matrix(cnf_matrix, classes=app_names, title='Confusion Matrix')\n",
    "plt.show()"
   ]
  },
  {
   "cell_type": "code",
   "execution_count": 22,
   "metadata": {},
   "outputs": [],
   "source": [
    "# I want to save these results to a txt file so I can view later\n",
    "of_name = 'model_results/e2_app_ab_m_' + str(mode) + '.txt'\n",
    "of = open(of_name, 'w')\n",
    "\n",
    "of.write(\"Results of Grid Search:\\n\")\n",
    "of.write(\"\\tBest n estimators:      %f\\n\" % best_n)\n",
    "of.write(\"\\tBest learning rate:     %f\\n\" % best_l)\n",
    "of.write(\"\\t---\\n\")\n",
    "of.write(\"\\tBest Score:           %f\\n\\n\" % adaboost_grid.best_score_)\n",
    "of.write(\"Results on Test Data:\\n\")\n",
    "of.write(\"\\tScore:                %f\\n\" % adaboost_grid.score(x_test, y_test))\n",
    "\n",
    "of.close()"
   ]
  },
  {
   "cell_type": "markdown",
   "metadata": {},
   "source": [
    "### Gradient Boost"
   ]
  },
  {
   "cell_type": "code",
   "execution_count": 23,
   "metadata": {},
   "outputs": [
    {
     "name": "stdout",
     "output_type": "stream",
     "text": [
      "Best n estimators:    200.000000\n",
      "Best learning rate:   0.250000\n",
      "Best max features:    sqrt\n"
     ]
    },
    {
     "data": {
      "text/plain": [
       "['saved_models/e2_app_gb_m_4.pkl']"
      ]
     },
     "execution_count": 23,
     "metadata": {},
     "output_type": "execute_result"
    }
   ],
   "source": [
    "kFold = 5\n",
    "param_grid = {'n_estimators': np.arange(100, 600, 100),\n",
    "                'learning_rate': np.arange(0.25, 1.25, 0.25),\n",
    "                 'max_features': np.array(['sqrt', 'log2'])}\n",
    "gradient_grid = GridSearchCV(GradientBoostingClassifier(), param_grid, cv=kFold)\n",
    "\n",
    "# test using training data\n",
    "gradient_grid.fit(x_train, y_train)\n",
    "best_n = gradient_grid.best_params_['n_estimators']\n",
    "best_l = gradient_grid.best_params_['learning_rate']\n",
    "best_f = forest_grid.best_params_['max_features']\n",
    "\n",
    "print(\"Best n estimators:    %f\" % best_n)\n",
    "print(\"Best learning rate:   %f\" % best_l)\n",
    "print(\"Best max features:    %s\" % best_f)\n",
    "\n",
    "gbc = GradientBoostingClassifier()\n",
    "gbc.fit(x_train, y_train)\n",
    "joblib.dump(gradient_grid, 'saved_models/e2_app_gb_m_' + str(mode) + '.pkl')"
   ]
  },
  {
   "cell_type": "code",
   "execution_count": 24,
   "metadata": {},
   "outputs": [
    {
     "name": "stdout",
     "output_type": "stream",
     "text": [
      "             precision    recall  f1-score   support\n",
      "\n",
      "          0       0.66      0.88      0.75        72\n",
      "          1       1.00      0.50      0.67         4\n",
      "          2       0.89      0.85      0.87        20\n",
      "          3       1.00      1.00      1.00        13\n",
      "          4       0.00      0.00      0.00        15\n",
      "          5       0.48      0.39      0.43        28\n",
      "\n",
      "avg / total       0.63      0.70      0.65       152\n",
      "\n"
     ]
    },
    {
     "name": "stderr",
     "output_type": "stream",
     "text": [
      "/home/maxliu/anaconda3/lib/python3.6/site-packages/sklearn/metrics/classification.py:1135: UndefinedMetricWarning: Precision and F-score are ill-defined and being set to 0.0 in labels with no predicted samples.\n",
      "  'precision', 'predicted', average, warn_for)\n"
     ]
    },
    {
     "data": {
      "image/png": "[encoded data removed]",
      "text/plain": [
       "<matplotlib.figure.Figure at 0x7fed338cd908>"
      ]
     },
     "metadata": {},
     "output_type": "display_data"
    }
   ],
   "source": [
    "# Make predictions\n",
    "y_pred = gradient_grid.predict(x_test)\n",
    "report = classification_report(y_test, y_pred)\n",
    "print(report)\n",
    "# Compute confusion matrix\n",
    "cnf_matrix = confusion_matrix(y_test, y_pred)\n",
    "plt.rcParams.update({'font.size':10})\n",
    "plt.figure(figsize=(8, 8))\n",
    "plot_confusion_matrix(cnf_matrix, classes=app_names, title='Confusion Matrix')\n",
    "plt.show()"
   ]
  },
  {
   "cell_type": "code",
   "execution_count": 25,
   "metadata": {},
   "outputs": [],
   "source": [
    "# I want to save these results to a txt file so I can view later\n",
    "of_name = 'model_results/e2_app_gb_m_' + str(mode) + '.txt'\n",
    "of = open(of_name, 'w')\n",
    "\n",
    "of.write(\"Results of Grid Search:\\n\")\n",
    "of.write(\"\\tBest n estimators:      %f\\n\" % best_n)\n",
    "of.write(\"\\tBest learning rate:     %f\\n\" % best_l)\n",
    "of.write(\"\\tBest max features:      %s\\n\" % best_f)\n",
    "of.write(\"\\t---\\n\")\n",
    "of.write(\"\\tBest Score:           %f\\n\\n\" % gradient_grid.best_score_)\n",
    "of.write(\"Results on Test Data:\\n\")\n",
    "of.write(\"\\tScore:                %f\\n\" % gradient_grid.score(x_test, y_test))\n",
    "\n",
    "of.close()"
   ]
  }
 ],
 "metadata": {
  "kernelspec": {
   "display_name": "Python 3",
   "language": "python",
   "name": "python3"
  },
  "language_info": {
   "codemirror_mode": {
    "name": "ipython",
    "version": 3
   },
   "file_extension": ".py",
   "mimetype": "text/x-python",
   "name": "python",
   "nbconvert_exporter": "python",
   "pygments_lexer": "ipython3",
   "version": "3.6.4"
  }
 },
 "nbformat": 4,
 "nbformat_minor": 2
}
