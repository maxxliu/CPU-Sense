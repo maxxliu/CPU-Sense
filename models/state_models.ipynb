{
 "cells": [
  {
   "cell_type": "code",
   "execution_count": 1,
   "metadata": {},
   "outputs": [],
   "source": [
    "# import modules here\n",
    "from prep_data import *\n",
    "from visualizations import *\n",
    "from sklearn.dummy import DummyClassifier\n",
    "from sklearn.metrics import confusion_matrix, accuracy_score, classification_report\n",
    "from sklearn.externals import joblib\n",
    "from sklearn.model_selection import GridSearchCV\n",
    "from sklearn.ensemble import AdaBoostClassifier, RandomForestClassifier, GradientBoostingClassifier"
   ]
  },
  {
   "cell_type": "code",
   "execution_count": 2,
   "metadata": {},
   "outputs": [],
   "source": [
    "# data files\n",
    "EXPERIMENT_1 = 'data/experiment1_data.csv'\n",
    "EXPERIMENT_2 = 'data/experiment2_data.csv'"
   ]
  },
  {
   "cell_type": "markdown",
   "metadata": {},
   "source": [
    "# Device State Models"
   ]
  },
  {
   "cell_type": "markdown",
   "metadata": {},
   "source": [
    "## Experiment 1"
   ]
  },
  {
   "cell_type": "code",
   "execution_count": 3,
   "metadata": {},
   "outputs": [],
   "source": [
    "# prepare the data\n",
    "mode = 3\n",
    "x_train, x_test, y_train, y_test = state_prep(EXPERIMENT_1, mode, EXP1_STATES, seed=None)\n",
    "state_names = ['0', '1', '2', '3', '4', '5']"
   ]
  },
  {
   "cell_type": "markdown",
   "metadata": {},
   "source": [
    "### Random Forest"
   ]
  },
  {
   "cell_type": "code",
   "execution_count": 4,
   "metadata": {},
   "outputs": [
    {
     "name": "stdout",
     "output_type": "stream",
     "text": [
      "Best n estimators:    110.000000\n",
      "Best max features:    sqrt\n"
     ]
    },
    {
     "data": {
      "text/plain": [
       "['saved_models/e1_state_rf_m_3.pkl']"
      ]
     },
     "execution_count": 4,
     "metadata": {},
     "output_type": "execute_result"
    }
   ],
   "source": [
    "kFold = 5\n",
    "param_grid = {'n_estimators': np.arange(10, 411, 100),\n",
    "                'max_features': np.array(['sqrt', 'log2'])}\n",
    "forest_grid = GridSearchCV(RandomForestClassifier(), param_grid, cv=kFold)\n",
    "\n",
    "forest_grid.fit(x_train, y_train)\n",
    "best_n = forest_grid.best_params_['n_estimators']\n",
    "best_f = forest_grid.best_params_['max_features']\n",
    "\n",
    "print(\"Best n estimators:    %f\" % best_n)\n",
    "print(\"Best max features:    %s\" % best_f)\n",
    "\n",
    "# rf = RandomForestClassifier()\n",
    "# rf.fit(x_train, y_train)\n",
    "joblib.dump(forest_grid, 'saved_models/e1_state_rf_m_' + str(mode) + '.pkl')"
   ]
  },
  {
   "cell_type": "code",
   "execution_count": 5,
   "metadata": {},
   "outputs": [
    {
     "name": "stdout",
     "output_type": "stream",
     "text": [
      "             precision    recall  f1-score   support\n",
      "\n",
      "          1       0.67      1.00      0.80         2\n",
      "          2       1.00      1.00      1.00         5\n",
      "          3       1.00      1.00      1.00         3\n",
      "          4       1.00      1.00      1.00         4\n",
      "          5       1.00      0.83      0.91         6\n",
      "\n",
      "avg / total       0.97      0.95      0.95        20\n",
      "\n"
     ]
    },
    {
     "data": {
      "image/png": "[encoded data removed]",
      "text/plain": [
       "<matplotlib.figure.Figure at 0x7f55cfe842e8>"
      ]
     },
     "metadata": {},
     "output_type": "display_data"
    }
   ],
   "source": [
    "# Make predictions\n",
    "y_pred = forest_grid.predict(x_test)\n",
    "report = classification_report(y_test, y_pred)\n",
    "print(report)\n",
    "# Compute confusion matrix\n",
    "cnf_matrix = confusion_matrix(y_test, y_pred)\n",
    "plt.rcParams.update({'font.size':10})\n",
    "plt.figure(figsize=(8, 8))\n",
    "plot_confusion_matrix(cnf_matrix, classes=state_names, title='Confusion Matrix')\n",
    "plt.show()"
   ]
  },
  {
   "cell_type": "code",
   "execution_count": 6,
   "metadata": {},
   "outputs": [],
   "source": [
    "# I want to save these results to a txt file so I can view later\n",
    "of_name = 'model_results/e1_state_rf_m_' + str(mode) + '.txt'\n",
    "of = open(of_name, 'w')\n",
    "\n",
    "of.write(\"Results of Grid Search:\\n\")\n",
    "of.write(\"\\tBest n estimators:      %f\\n\" % best_n)\n",
    "of.write(\"\\tBest max features:      %s\\n\" % best_f)\n",
    "of.write(\"\\t---\\n\")\n",
    "of.write(\"\\tBest Score:           %f\\n\\n\" % forest_grid.best_score_)\n",
    "of.write(\"Results on Test Data:\\n\")\n",
    "of.write(\"\\tScore:                %f\\n\" % forest_grid.score(x_test, y_test))\n",
    "\n",
    "of.close()"
   ]
  },
  {
   "cell_type": "markdown",
   "metadata": {},
   "source": [
    "### Adaboost"
   ]
  },
  {
   "cell_type": "code",
   "execution_count": 7,
   "metadata": {},
   "outputs": [
    {
     "name": "stdout",
     "output_type": "stream",
     "text": [
      "Best n estimators:    50.000000\n",
      "Best learning rate:   0.500000\n"
     ]
    },
    {
     "data": {
      "text/plain": [
       "['saved_models/e1_state_ab_m_3.pkl']"
      ]
     },
     "execution_count": 7,
     "metadata": {},
     "output_type": "execute_result"
    }
   ],
   "source": [
    "kFold = 5\n",
    "param_grid = {'n_estimators': np.arange(50, 750, 100),\n",
    "                'learning_rate': np.arange(0.25, 1.25, 0.25)}\n",
    "adaboost_grid = GridSearchCV(AdaBoostClassifier(), param_grid, cv=kFold)\n",
    "\n",
    "# test using training data\n",
    "adaboost_grid.fit(x_train, y_train)\n",
    "best_n = adaboost_grid.best_params_['n_estimators']\n",
    "best_l = adaboost_grid.best_params_['learning_rate']\n",
    "\n",
    "print(\"Best n estimators:    %f\" % best_n)\n",
    "print(\"Best learning rate:   %f\" % best_l)\n",
    "\n",
    "# abc = AdaBoostClassifier()\n",
    "# abc.fit(x_train, y_train)\n",
    "joblib.dump(adaboost_grid, 'saved_models/e1_state_ab_m_' + str(mode) + '.pkl')"
   ]
  },
  {
   "cell_type": "code",
   "execution_count": 8,
   "metadata": {},
   "outputs": [
    {
     "name": "stdout",
     "output_type": "stream",
     "text": [
      "             precision    recall  f1-score   support\n",
      "\n",
      "          1       1.00      1.00      1.00         2\n",
      "          2       1.00      1.00      1.00         5\n",
      "          3       1.00      1.00      1.00         3\n",
      "          4       1.00      1.00      1.00         4\n",
      "          5       1.00      1.00      1.00         6\n",
      "\n",
      "avg / total       1.00      1.00      1.00        20\n",
      "\n"
     ]
    },
    {
     "data": {
      "image/png": "[encoded data removed]",
      "text/plain": [
       "<matplotlib.figure.Figure at 0x7f55cfe95fd0>"
      ]
     },
     "metadata": {},
     "output_type": "display_data"
    }
   ],
   "source": [
    "# Make predictions\n",
    "y_pred = adaboost_grid.predict(x_test)\n",
    "report = classification_report(y_test, y_pred)\n",
    "print(report)\n",
    "# Compute confusion matrix\n",
    "cnf_matrix = confusion_matrix(y_test, y_pred)\n",
    "plt.rcParams.update({'font.size':10})\n",
    "plt.figure(figsize=(8, 8))\n",
    "plot_confusion_matrix(cnf_matrix, classes=state_names, title='Confusion Matrix')\n",
    "plt.show()"
   ]
  },
  {
   "cell_type": "code",
   "execution_count": 9,
   "metadata": {},
   "outputs": [],
   "source": [
    "# I want to save these results to a txt file so I can view later\n",
    "of_name = 'model_results/e1_state_ab_m_' + str(mode) + '.txt'\n",
    "of = open(of_name, 'w')\n",
    "\n",
    "of.write(\"Results of Grid Search:\\n\")\n",
    "of.write(\"\\tBest n estimators:      %f\\n\" % best_n)\n",
    "of.write(\"\\tBest learning rate:     %f\\n\" % best_l)\n",
    "of.write(\"\\t---\\n\")\n",
    "of.write(\"\\tBest Score:           %f\\n\\n\" % adaboost_grid.best_score_)\n",
    "of.write(\"Results on Test Data:\\n\")\n",
    "of.write(\"\\tScore:                %f\\n\" % adaboost_grid.score(x_test, y_test))\n",
    "\n",
    "of.close()"
   ]
  },
  {
   "cell_type": "markdown",
   "metadata": {},
   "source": [
    "### Gradient Boost"
   ]
  },
  {
   "cell_type": "code",
   "execution_count": 10,
   "metadata": {},
   "outputs": [
    {
     "name": "stdout",
     "output_type": "stream",
     "text": [
      "Best n estimators:    100.000000\n",
      "Best learning rate:   0.250000\n",
      "Best max features:    sqrt\n"
     ]
    },
    {
     "data": {
      "text/plain": [
       "['saved_models/e1_state_gb_m_3.pkl']"
      ]
     },
     "execution_count": 10,
     "metadata": {},
     "output_type": "execute_result"
    }
   ],
   "source": [
    "kFold = 5\n",
    "param_grid = {'n_estimators': np.arange(100, 600, 100),\n",
    "                'learning_rate': np.arange(0.25, 1.25, 0.25),\n",
    "                 'max_features': np.array(['sqrt', 'log2'])}\n",
    "gradient_grid = GridSearchCV(GradientBoostingClassifier(), param_grid, cv=kFold)\n",
    "\n",
    "# test using training data\n",
    "gradient_grid.fit(x_train, y_train)\n",
    "best_n = gradient_grid.best_params_['n_estimators']\n",
    "best_l = gradient_grid.best_params_['learning_rate']\n",
    "best_f = forest_grid.best_params_['max_features']\n",
    "\n",
    "print(\"Best n estimators:    %f\" % best_n)\n",
    "print(\"Best learning rate:   %f\" % best_l)\n",
    "print(\"Best max features:    %s\" % best_f)\n",
    "\n",
    "# gbc = GradientBoostingClassifier()\n",
    "# gbc.fit(x_train, y_train)\n",
    "joblib.dump(gradient_grid, 'saved_models/e1_state_gb_m_' + str(mode) + '.pkl')"
   ]
  },
  {
   "cell_type": "code",
   "execution_count": 11,
   "metadata": {},
   "outputs": [
    {
     "name": "stdout",
     "output_type": "stream",
     "text": [
      "             precision    recall  f1-score   support\n",
      "\n",
      "          1       1.00      1.00      1.00         2\n",
      "          2       1.00      1.00      1.00         5\n",
      "          3       1.00      1.00      1.00         3\n",
      "          4       1.00      1.00      1.00         4\n",
      "          5       1.00      1.00      1.00         6\n",
      "\n",
      "avg / total       1.00      1.00      1.00        20\n",
      "\n"
     ]
    },
    {
     "data": {
      "image/png": "[encoded data removed]",
      "text/plain": [
       "<matplotlib.figure.Figure at 0x7f55cff1d048>"
      ]
     },
     "metadata": {},
     "output_type": "display_data"
    }
   ],
   "source": [
    "# Make predictions\n",
    "y_pred = gradient_grid.predict(x_test)\n",
    "report = classification_report(y_test, y_pred)\n",
    "print(report)\n",
    "# Compute confusion matrix\n",
    "cnf_matrix = confusion_matrix(y_test, y_pred)\n",
    "plt.rcParams.update({'font.size':10})\n",
    "plt.figure(figsize=(8, 8))\n",
    "plot_confusion_matrix(cnf_matrix, classes=state_names, title='Confusion Matrix')\n",
    "plt.show()"
   ]
  },
  {
   "cell_type": "code",
   "execution_count": 12,
   "metadata": {},
   "outputs": [],
   "source": [
    "# I want to save these results to a txt file so I can view later\n",
    "of_name = 'model_results/e1_state_gb_m_' + str(mode) + '.txt'\n",
    "of = open(of_name, 'w')\n",
    "\n",
    "of.write(\"Results of Grid Search:\\n\")\n",
    "of.write(\"\\tBest n estimators:      %f\\n\" % best_n)\n",
    "of.write(\"\\tBest learning rate:     %f\\n\" % best_l)\n",
    "of.write(\"\\tBest max features:      %s\\n\" % best_f)\n",
    "of.write(\"\\t---\\n\")\n",
    "of.write(\"\\tBest Score:           %f\\n\\n\" % gradient_grid.best_score_)\n",
    "of.write(\"Results on Test Data:\\n\")\n",
    "of.write(\"\\tScore:                %f\\n\" % gradient_grid.score(x_test, y_test))\n",
    "\n",
    "of.close()"
   ]
  },
  {
   "cell_type": "markdown",
   "metadata": {},
   "source": [
    "## Experiment 2"
   ]
  },
  {
   "cell_type": "code",
   "execution_count": 13,
   "metadata": {},
   "outputs": [],
   "source": [
    "# prepare the data\n",
    "mode = 4\n",
    "x_train, x_test, y_train, y_test = state_prep(EXPERIMENT_2, mode, EXP2_STATES, seed=None)\n",
    "state_names = ['0', '1', '2', '3', '4', '5', '6', '7', \n",
    "               '8', '9', '10', '11', '12', '13', '14', '15']"
   ]
  },
  {
   "cell_type": "markdown",
   "metadata": {},
   "source": [
    "### Random Forest"
   ]
  },
  {
   "cell_type": "code",
   "execution_count": 14,
   "metadata": {},
   "outputs": [
    {
     "name": "stdout",
     "output_type": "stream",
     "text": [
      "Best n estimators:    410.000000\n",
      "Best max features:    log2\n"
     ]
    },
    {
     "data": {
      "text/plain": [
       "['saved_models/e2_state_rf_m_4.pkl']"
      ]
     },
     "execution_count": 14,
     "metadata": {},
     "output_type": "execute_result"
    }
   ],
   "source": [
    "kFold = 5\n",
    "param_grid = {'n_estimators': np.arange(10, 411, 100),\n",
    "                'max_features': np.array(['sqrt', 'log2'])}\n",
    "forest_grid = GridSearchCV(RandomForestClassifier(), param_grid, cv=kFold)\n",
    "\n",
    "forest_grid.fit(x_train, y_train)\n",
    "best_n = forest_grid.best_params_['n_estimators']\n",
    "best_f = forest_grid.best_params_['max_features']\n",
    "\n",
    "print(\"Best n estimators:    %f\" % best_n)\n",
    "print(\"Best max features:    %s\" % best_f)\n",
    "\n",
    "# rf = RandomForestClassifier()\n",
    "# rf.fit(x_train, y_train)\n",
    "joblib.dump(forest_grid, 'saved_models/e2_state_rf_m_' + str(mode) + '.pkl')"
   ]
  },
  {
   "cell_type": "code",
   "execution_count": 15,
   "metadata": {},
   "outputs": [
    {
     "name": "stderr",
     "output_type": "stream",
     "text": [
      "/home/maxliu/anaconda3/lib/python3.6/site-packages/sklearn/metrics/classification.py:1135: UndefinedMetricWarning: Precision and F-score are ill-defined and being set to 0.0 in labels with no predicted samples.\n",
      "  'precision', 'predicted', average, warn_for)\n",
      "/home/maxliu/anaconda3/lib/python3.6/site-packages/sklearn/metrics/classification.py:1137: UndefinedMetricWarning: Recall and F-score are ill-defined and being set to 0.0 in labels with no true samples.\n",
      "  'recall', 'true', average, warn_for)\n"
     ]
    },
    {
     "name": "stdout",
     "output_type": "stream",
     "text": [
      "             precision    recall  f1-score   support\n",
      "\n",
      "          1       0.00      0.00      0.00         0\n",
      "          2       0.14      0.20      0.17         5\n",
      "          3       0.89      1.00      0.94        16\n",
      "          4       0.67      1.00      0.80         2\n",
      "          5       1.00      0.50      0.67         4\n",
      "          6       1.00      0.80      0.89         5\n",
      "          7       0.31      0.44      0.36         9\n",
      "          8       0.33      0.50      0.40         2\n",
      "          9       1.00      0.33      0.50         6\n",
      "         10       0.14      0.50      0.22         2\n",
      "         11       1.00      1.00      1.00         7\n",
      "         12       1.00      1.00      1.00         3\n",
      "         13       0.33      0.17      0.22         6\n",
      "         14       0.00      0.00      0.00         3\n",
      "         15       0.00      0.00      0.00         6\n",
      "\n",
      "avg / total       0.62      0.58      0.57        76\n",
      "\n"
     ]
    },
    {
     "data": {
      "image/png": "[encoded data removed]",
      "text/plain": [
       "<matplotlib.figure.Figure at 0x7f55c7836dd8>"
      ]
     },
     "metadata": {},
     "output_type": "display_data"
    }
   ],
   "source": [
    "# Make predictions\n",
    "y_pred = forest_grid.predict(x_test)\n",
    "report = classification_report(y_test, y_pred)\n",
    "print(report)\n",
    "# Compute confusion matrix\n",
    "cnf_matrix = confusion_matrix(y_test, y_pred)\n",
    "plt.rcParams.update({'font.size':10})\n",
    "plt.figure(figsize=(8, 8))\n",
    "plot_confusion_matrix(cnf_matrix, classes=state_names, title='Confusion Matrix')\n",
    "plt.show()"
   ]
  },
  {
   "cell_type": "code",
   "execution_count": 16,
   "metadata": {},
   "outputs": [],
   "source": [
    "# I want to save these results to a txt file so I can view later\n",
    "of_name = 'model_results/e2_state_rf_m_' + str(mode) + '.txt'\n",
    "of = open(of_name, 'w')\n",
    "\n",
    "of.write(\"Results of Grid Search:\\n\")\n",
    "of.write(\"\\tBest n estimators:      %f\\n\" % best_n)\n",
    "of.write(\"\\tBest max features:      %s\\n\" % best_f)\n",
    "of.write(\"\\t---\\n\")\n",
    "of.write(\"\\tBest Score:           %f\\n\\n\" % forest_grid.best_score_)\n",
    "of.write(\"Results on Test Data:\\n\")\n",
    "of.write(\"\\tScore:                %f\\n\" % forest_grid.score(x_test, y_test))\n",
    "\n",
    "of.close()"
   ]
  },
  {
   "cell_type": "markdown",
   "metadata": {},
   "source": [
    "### Adaboost"
   ]
  },
  {
   "cell_type": "code",
   "execution_count": 17,
   "metadata": {},
   "outputs": [
    {
     "name": "stdout",
     "output_type": "stream",
     "text": [
      "Best n estimators:    150.000000\n",
      "Best learning rate:   0.500000\n"
     ]
    },
    {
     "data": {
      "text/plain": [
       "['saved_models/e2_state_ab_m_4.pkl']"
      ]
     },
     "execution_count": 17,
     "metadata": {},
     "output_type": "execute_result"
    }
   ],
   "source": [
    "kFold = 5\n",
    "param_grid = {'n_estimators': np.arange(50, 750, 100),\n",
    "                'learning_rate': np.arange(0.25, 1.25, 0.25)}\n",
    "adaboost_grid = GridSearchCV(AdaBoostClassifier(), param_grid, cv=kFold)\n",
    "\n",
    "# test using training data\n",
    "adaboost_grid.fit(x_train, y_train)\n",
    "best_n = adaboost_grid.best_params_['n_estimators']\n",
    "best_l = adaboost_grid.best_params_['learning_rate']\n",
    "\n",
    "print(\"Best n estimators:    %f\" % best_n)\n",
    "print(\"Best learning rate:   %f\" % best_l)\n",
    "\n",
    "# abc = AdaBoostClassifier()\n",
    "# abc.fit(x_train, y_train)\n",
    "joblib.dump(adaboost_grid, 'saved_models/e2_state_ab_m_' + str(mode) + '.pkl')"
   ]
  },
  {
   "cell_type": "code",
   "execution_count": 18,
   "metadata": {},
   "outputs": [
    {
     "name": "stdout",
     "output_type": "stream",
     "text": [
      "             precision    recall  f1-score   support\n",
      "\n",
      "          1       0.00      0.00      0.00         0\n",
      "          2       0.00      0.00      0.00         5\n",
      "          3       0.89      0.50      0.64        16\n",
      "          4       0.00      0.00      0.00         2\n",
      "          5       0.25      0.50      0.33         4\n",
      "          6       0.33      0.40      0.36         5\n",
      "          7       0.60      0.33      0.43         9\n",
      "          8       0.40      1.00      0.57         2\n",
      "          9       0.50      0.67      0.57         6\n",
      "         10       0.00      0.00      0.00         2\n",
      "         11       0.88      1.00      0.93         7\n",
      "         12       0.50      0.67      0.57         3\n",
      "         13       1.00      0.33      0.50         6\n",
      "         14       0.00      0.00      0.00         3\n",
      "         15       0.50      0.17      0.25         6\n",
      "\n",
      "avg / total       0.56      0.43      0.45        76\n",
      "\n"
     ]
    },
    {
     "name": "stderr",
     "output_type": "stream",
     "text": [
      "/home/maxliu/anaconda3/lib/python3.6/site-packages/sklearn/metrics/classification.py:1135: UndefinedMetricWarning: Precision and F-score are ill-defined and being set to 0.0 in labels with no predicted samples.\n",
      "  'precision', 'predicted', average, warn_for)\n",
      "/home/maxliu/anaconda3/lib/python3.6/site-packages/sklearn/metrics/classification.py:1137: UndefinedMetricWarning: Recall and F-score are ill-defined and being set to 0.0 in labels with no true samples.\n",
      "  'recall', 'true', average, warn_for)\n"
     ]
    },
    {
     "data": {
      "image/png": "[encoded data removed]",
      "text/plain": [
       "<matplotlib.figure.Figure at 0x7f55cff1d0f0>"
      ]
     },
     "metadata": {},
     "output_type": "display_data"
    }
   ],
   "source": [
    "# Make predictions\n",
    "y_pred = adaboost_grid.predict(x_test)\n",
    "report = classification_report(y_test, y_pred)\n",
    "print(report)\n",
    "# Compute confusion matrix\n",
    "cnf_matrix = confusion_matrix(y_test, y_pred)\n",
    "plt.rcParams.update({'font.size':10})\n",
    "plt.figure(figsize=(8, 8))\n",
    "plot_confusion_matrix(cnf_matrix, classes=state_names, title='Confusion Matrix')\n",
    "plt.show()"
   ]
  },
  {
   "cell_type": "code",
   "execution_count": 19,
   "metadata": {},
   "outputs": [],
   "source": [
    "# I want to save these results to a txt file so I can view later\n",
    "of_name = 'model_results/e2_state_ab_m_' + str(mode) + '.txt'\n",
    "of = open(of_name, 'w')\n",
    "\n",
    "of.write(\"Results of Grid Search:\\n\")\n",
    "of.write(\"\\tBest n estimators:      %f\\n\" % best_n)\n",
    "of.write(\"\\tBest learning rate:     %f\\n\" % best_l)\n",
    "of.write(\"\\t---\\n\")\n",
    "of.write(\"\\tBest Score:           %f\\n\\n\" % adaboost_grid.best_score_)\n",
    "of.write(\"Results on Test Data:\\n\")\n",
    "of.write(\"\\tScore:                %f\\n\" % adaboost_grid.score(x_test, y_test))\n",
    "\n",
    "of.close()"
   ]
  },
  {
   "cell_type": "markdown",
   "metadata": {},
   "source": [
    "### Gradient Boost"
   ]
  },
  {
   "cell_type": "code",
   "execution_count": 20,
   "metadata": {},
   "outputs": [
    {
     "name": "stdout",
     "output_type": "stream",
     "text": [
      "Best n estimators:    400.000000\n",
      "Best learning rate:   0.250000\n",
      "Best max features:    log2\n"
     ]
    },
    {
     "data": {
      "text/plain": [
       "['saved_models/e2_state_gb_m_4.pkl']"
      ]
     },
     "execution_count": 20,
     "metadata": {},
     "output_type": "execute_result"
    }
   ],
   "source": [
    "kFold = 5\n",
    "param_grid = {'n_estimators': np.arange(100, 600, 100),\n",
    "                'learning_rate': np.arange(0.25, 1.25, 0.25),\n",
    "                 'max_features': np.array(['sqrt', 'log2'])}\n",
    "gradient_grid = GridSearchCV(GradientBoostingClassifier(), param_grid, cv=kFold)\n",
    "\n",
    "# test using training data\n",
    "gradient_grid.fit(x_train, y_train)\n",
    "best_n = gradient_grid.best_params_['n_estimators']\n",
    "best_l = gradient_grid.best_params_['learning_rate']\n",
    "best_f = forest_grid.best_params_['max_features']\n",
    "\n",
    "print(\"Best n estimators:    %f\" % best_n)\n",
    "print(\"Best learning rate:   %f\" % best_l)\n",
    "print(\"Best max features:    %s\" % best_f)\n",
    "\n",
    "# gbc = GradientBoostingClassifier()\n",
    "# gbc.fit(x_train, y_train)\n",
    "joblib.dump(gradient_grid, 'saved_models/e2_state_gb_m_' + str(mode) + '.pkl')"
   ]
  },
  {
   "cell_type": "code",
   "execution_count": 21,
   "metadata": {},
   "outputs": [
    {
     "name": "stderr",
     "output_type": "stream",
     "text": [
      "/home/maxliu/anaconda3/lib/python3.6/site-packages/sklearn/metrics/classification.py:1135: UndefinedMetricWarning: Precision and F-score are ill-defined and being set to 0.0 in labels with no predicted samples.\n",
      "  'precision', 'predicted', average, warn_for)\n",
      "/home/maxliu/anaconda3/lib/python3.6/site-packages/sklearn/metrics/classification.py:1137: UndefinedMetricWarning: Recall and F-score are ill-defined and being set to 0.0 in labels with no true samples.\n",
      "  'recall', 'true', average, warn_for)\n"
     ]
    },
    {
     "name": "stdout",
     "output_type": "stream",
     "text": [
      "             precision    recall  f1-score   support\n",
      "\n",
      "          1       0.00      0.00      0.00         0\n",
      "          2       0.33      0.40      0.36         5\n",
      "          3       0.83      0.94      0.88        16\n",
      "          4       0.50      1.00      0.67         2\n",
      "          5       0.50      0.50      0.50         4\n",
      "          6       1.00      0.60      0.75         5\n",
      "          7       0.31      0.44      0.36         9\n",
      "          8       0.33      0.50      0.40         2\n",
      "          9       1.00      0.50      0.67         6\n",
      "         10       0.14      0.50      0.22         2\n",
      "         11       1.00      0.86      0.92         7\n",
      "         12       1.00      0.67      0.80         3\n",
      "         13       0.25      0.17      0.20         6\n",
      "         14       0.00      0.00      0.00         3\n",
      "         15       0.00      0.00      0.00         6\n",
      "\n",
      "avg / total       0.58      0.55      0.55        76\n",
      "\n"
     ]
    },
    {
     "data": {
      "image/png": "[encoded data removed]",
      "text/plain": [
       "<matplotlib.figure.Figure at 0x7f55c77c4ba8>"
      ]
     },
     "metadata": {},
     "output_type": "display_data"
    }
   ],
   "source": [
    "# Make predictions\n",
    "y_pred = gradient_grid.predict(x_test)\n",
    "report = classification_report(y_test, y_pred)\n",
    "print(report)\n",
    "# Compute confusion matrix\n",
    "cnf_matrix = confusion_matrix(y_test, y_pred)\n",
    "plt.rcParams.update({'font.size':10})\n",
    "plt.figure(figsize=(8, 8))\n",
    "plot_confusion_matrix(cnf_matrix, classes=state_names, title='Confusion Matrix')\n",
    "plt.show()"
   ]
  },
  {
   "cell_type": "code",
   "execution_count": 22,
   "metadata": {},
   "outputs": [],
   "source": [
    "# I want to save these results to a txt file so I can view later\n",
    "of_name = 'model_results/e2_state_gb_m_' + str(mode) + '.txt'\n",
    "of = open(of_name, 'w')\n",
    "\n",
    "of.write(\"Results of Grid Search:\\n\")\n",
    "of.write(\"\\tBest n estimators:      %f\\n\" % best_n)\n",
    "of.write(\"\\tBest learning rate:     %f\\n\" % best_l)\n",
    "of.write(\"\\tBest max features:      %s\\n\" % best_f)\n",
    "of.write(\"\\t---\\n\")\n",
    "of.write(\"\\tBest Score:           %f\\n\\n\" % gradient_grid.best_score_)\n",
    "of.write(\"Results on Test Data:\\n\")\n",
    "of.write(\"\\tScore:                %f\\n\" % gradient_grid.score(x_test, y_test))\n",
    "\n",
    "of.close()"
   ]
  }
 ],
 "metadata": {
  "kernelspec": {
   "display_name": "Python 3",
   "language": "python",
   "name": "python3"
  },
  "language_info": {
   "codemirror_mode": {
    "name": "ipython",
    "version": 3
   },
   "file_extension": ".py",
   "mimetype": "text/x-python",
   "name": "python",
   "nbconvert_exporter": "python",
   "pygments_lexer": "ipython3",
   "version": "3.6.4"
  }
 },
 "nbformat": 4,
 "nbformat_minor": 2
}
